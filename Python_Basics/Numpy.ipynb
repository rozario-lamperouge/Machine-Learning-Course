{
  "nbformat": 4,
  "nbformat_minor": 0,
  "metadata": {
    "colab": {
      "name": "Untitled15.ipynb",
      "provenance": [],
      "include_colab_link": true
    },
    "kernelspec": {
      "name": "python3",
      "display_name": "Python 3"
    }
  },
  "cells": [
    {
      "cell_type": "markdown",
      "metadata": {
        "id": "view-in-github",
        "colab_type": "text"
      },
      "source": [
        "<a href=\"https://colab.research.google.com/github/rozario-lamperouge/Machine-Learning-Course/blob/master/Python_Basics/Numpy.ipynb\" target=\"_parent\"><img src=\"https://colab.research.google.com/assets/colab-badge.svg\" alt=\"Open In Colab\"/></a>"
      ]
    },
    {
      "cell_type": "markdown",
      "metadata": {
        "id": "Ycr86dWCudj3"
      },
      "source": [
        "# **Numpy Basics**"
      ]
    },
    {
      "cell_type": "code",
      "metadata": {
        "id": "nW_FZxrcukoh"
      },
      "source": [
        "import numpy as np"
      ],
      "execution_count": null,
      "outputs": []
    },
    {
      "cell_type": "code",
      "metadata": {
        "id": "OCYiMs0Du1eD"
      },
      "source": [
        "a = np.array([1,2,3])"
      ],
      "execution_count": null,
      "outputs": []
    },
    {
      "cell_type": "code",
      "metadata": {
        "id": "qekDoy0su4Ap"
      },
      "source": [
        "print(a)\n",
        "print(a.shape)\n",
        "print(type(a))"
      ],
      "execution_count": null,
      "outputs": []
    },
    {
      "cell_type": "code",
      "metadata": {
        "id": "U-shNsFfvAED"
      },
      "source": [
        "b = np.array([1.1,2.2,3.3])"
      ],
      "execution_count": null,
      "outputs": []
    },
    {
      "cell_type": "code",
      "metadata": {
        "id": "jItiKg5mvCa0"
      },
      "source": [
        "print(b)       \n",
        "print(b.shape) \n",
        "print(type(b))"
      ],
      "execution_count": null,
      "outputs": []
    },
    {
      "cell_type": "code",
      "metadata": {
        "id": "1qLT4irJvFVu"
      },
      "source": [
        "print(a[0])       \n",
        "print(b[2])       \n",
        "print(type(a[2])) \n",
        "print(type(b[1]))"
      ],
      "execution_count": null,
      "outputs": []
    },
    {
      "cell_type": "code",
      "metadata": {
        "id": "lhzNSwJXvKF2"
      },
      "source": [
        "c = np.array([[1,2],[3,4]])"
      ],
      "execution_count": null,
      "outputs": []
    },
    {
      "cell_type": "code",
      "metadata": {
        "id": "4jiCEtu7vNqD"
      },
      "source": [
        "print(c)\n",
        "print(c.shape)"
      ],
      "execution_count": null,
      "outputs": []
    },
    {
      "cell_type": "markdown",
      "metadata": {
        "id": "dwKEHCSavSlZ"
      },
      "source": [
        "# **Ones and Zeros**"
      ]
    },
    {
      "cell_type": "code",
      "metadata": {
        "id": "7jscasnAvYNS"
      },
      "source": [
        "d = np.ones((2,2))"
      ],
      "execution_count": null,
      "outputs": []
    },
    {
      "cell_type": "code",
      "metadata": {
        "id": "ltwgMyS4yQSX"
      },
      "source": [
        "print(d)            \n",
        "print(d.shape)       \n",
        "print(type(d))       \n",
        "print(type(d[0][0]))"
      ],
      "execution_count": null,
      "outputs": []
    },
    {
      "cell_type": "code",
      "metadata": {
        "id": "nHWHo9GtyUur"
      },
      "source": [
        "e = np.zeros((3,3))"
      ],
      "execution_count": null,
      "outputs": []
    },
    {
      "cell_type": "code",
      "metadata": {
        "id": "GeTGXptjyWgE"
      },
      "source": [
        "print(e)             \n",
        "print(e.shape)       \n",
        "print(type(e))       \n",
        "print(type(e[0][0]))"
      ],
      "execution_count": null,
      "outputs": []
    },
    {
      "cell_type": "code",
      "metadata": {
        "id": "e0uZhS6CycWP"
      },
      "source": [
        "f = np.random.random((2,2))"
      ],
      "execution_count": null,
      "outputs": []
    },
    {
      "cell_type": "code",
      "metadata": {
        "id": "4QJG_MdYyeNV"
      },
      "source": [
        "print(f)        \n",
        "print(f.shape)"
      ],
      "execution_count": null,
      "outputs": []
    },
    {
      "cell_type": "markdown",
      "metadata": {
        "id": "Te8FeRT6yld3"
      },
      "source": [
        "# **Array Math**"
      ]
    },
    {
      "cell_type": "code",
      "metadata": {
        "id": "-nHRSbz9yo8N"
      },
      "source": [
        "add = a + b\n",
        "print (\"addition\")\n",
        "print(add)\n",
        "print(np.add(a,b))"
      ],
      "execution_count": null,
      "outputs": []
    },
    {
      "cell_type": "code",
      "metadata": {
        "id": "dsWZXvDTys_1"
      },
      "source": [
        "sub = a - b\n",
        "print (\"subtraction\")\n",
        "print(sub)               \n",
        "print(np.subtract(a,b)) "
      ],
      "execution_count": null,
      "outputs": []
    },
    {
      "cell_type": "code",
      "metadata": {
        "id": "pFUEV7a2yw0T"
      },
      "source": [
        "mul = a * b\n",
        "print (\"multiplication\")\n",
        "print(mul)                \n",
        "print(np.multiply(a,b)) "
      ],
      "execution_count": null,
      "outputs": []
    },
    {
      "cell_type": "code",
      "metadata": {
        "id": "vE5j2sjEyy8B"
      },
      "source": [
        "div = a / b\n",
        "print (\"division\")\n",
        "print(div) \n",
        "print(np.divide(a,b))   "
      ],
      "execution_count": null,
      "outputs": []
    },
    {
      "cell_type": "markdown",
      "metadata": {
        "id": "BzlvLyBky3-1"
      },
      "source": [
        "# **Array Concat**"
      ]
    },
    {
      "cell_type": "code",
      "metadata": {
        "id": "po9cIEk-y527"
      },
      "source": [
        "v1 = np.array([1,2,3])\n",
        "v2 = np.array([4,5,6])"
      ],
      "execution_count": null,
      "outputs": []
    },
    {
      "cell_type": "code",
      "metadata": {
        "id": "u8yRMm7Ly8bn"
      },
      "source": [
        "print(v1.shape)\n",
        "print(v2.shape)  "
      ],
      "execution_count": null,
      "outputs": []
    },
    {
      "cell_type": "code",
      "metadata": {
        "id": "ckvbeFYNzAJH"
      },
      "source": [
        "concat = np.concatenate((v1, v2))  "
      ],
      "execution_count": null,
      "outputs": []
    },
    {
      "cell_type": "code",
      "metadata": {
        "id": "cD3rJnHXzCBu"
      },
      "source": [
        "print(concat)      \n",
        "print(concat.shape) "
      ],
      "execution_count": null,
      "outputs": []
    },
    {
      "cell_type": "code",
      "metadata": {
        "id": "FTNd-JOlzExO"
      },
      "source": [
        "v3 = np.array([[1,2,3],[4,5,6]])\n",
        "v4 = np.array([[40,40,40],[50,50,50]])"
      ],
      "execution_count": null,
      "outputs": []
    },
    {
      "cell_type": "code",
      "metadata": {
        "id": "bzPgJ1x4zGDK"
      },
      "source": [
        "print(v3.shape)     \n",
        "print(v4.shape) "
      ],
      "execution_count": null,
      "outputs": []
    },
    {
      "cell_type": "code",
      "metadata": {
        "id": "lJUE3_cHzKXT"
      },
      "source": [
        "concat_0 = np.concatenate((v3, v4), axis=0)\n",
        "concat_1 = np.concatenate((v3, v4), axis=1)\n"
      ],
      "execution_count": null,
      "outputs": []
    },
    {
      "cell_type": "code",
      "metadata": {
        "id": "Z7aIUMY9zP-f"
      },
      "source": [
        "v_stack  = np.vstack((v3,v4))\n",
        "h_stack  = np.hstack((v3,v4))"
      ],
      "execution_count": null,
      "outputs": []
    },
    {
      "cell_type": "code",
      "metadata": {
        "id": "04GbKXVZy3qa"
      },
      "source": [
        "print(concat_0) \n",
        "print(v_stack) \n",
        "print(concat_0.shape)"
      ],
      "execution_count": null,
      "outputs": []
    },
    {
      "cell_type": "code",
      "metadata": {
        "id": "9R4_oJIRuZVr"
      },
      "source": [
        "print(concat_1)        \n",
        "print(h_stack)         \n",
        "print(concat_1.shape)"
      ],
      "execution_count": null,
      "outputs": []
    },
    {
      "cell_type": "markdown",
      "metadata": {
        "id": "qkkbqQkgzhEP"
      },
      "source": [
        "# **Array Reshape**"
      ]
    },
    {
      "cell_type": "code",
      "metadata": {
        "id": "A6XutZEPzjP1"
      },
      "source": [
        "a = np.array([[1,1,1],[2,2,2]])"
      ],
      "execution_count": null,
      "outputs": []
    },
    {
      "cell_type": "code",
      "metadata": {
        "id": "76ns8Xr-zliJ"
      },
      "source": [
        "print(a)\n",
        "print(a.shape)"
      ],
      "execution_count": null,
      "outputs": []
    },
    {
      "cell_type": "code",
      "metadata": {
        "id": "EMphg2aQzpl5"
      },
      "source": [
        "b = np.reshape(a, 6)"
      ],
      "execution_count": null,
      "outputs": []
    },
    {
      "cell_type": "code",
      "metadata": {
        "id": "IePg0Z8tzxkq"
      },
      "source": [
        "print(b)\n",
        "print(b.shape)"
      ],
      "execution_count": null,
      "outputs": []
    },
    {
      "cell_type": "code",
      "metadata": {
        "id": "uL7N0cBQz0ZM"
      },
      "source": [
        "c = np.reshape(b, (3,2))"
      ],
      "execution_count": null,
      "outputs": []
    },
    {
      "cell_type": "code",
      "metadata": {
        "id": "PLJKJYSRz16Z"
      },
      "source": [
        "print(c)              \n",
        "print(c.shape) "
      ],
      "execution_count": null,
      "outputs": []
    },
    {
      "cell_type": "code",
      "metadata": {
        "id": "LwsE4h_iz-mR"
      },
      "source": [
        "c = np.array([[1,2,3],[4,5,6],[7,8,9]])"
      ],
      "execution_count": null,
      "outputs": []
    },
    {
      "cell_type": "code",
      "metadata": {
        "id": "ZlW2YGtV0Akf"
      },
      "source": [
        "print(c)        \n",
        "print(c.shape) "
      ],
      "execution_count": null,
      "outputs": []
    },
    {
      "cell_type": "code",
      "metadata": {
        "id": "qyTN3oyZ0Deu"
      },
      "source": [
        "d = np.ravel(c)\n",
        "e = c.flatten()"
      ],
      "execution_count": null,
      "outputs": []
    },
    {
      "cell_type": "code",
      "metadata": {
        "id": "dmF5DmoY0Gas"
      },
      "source": [
        "print(d) \n",
        "print(e)    "
      ],
      "execution_count": null,
      "outputs": []
    },
    {
      "cell_type": "code",
      "metadata": {
        "id": "iv50Opb20OA9"
      },
      "source": [
        "print(np.ravel(c, order='F'))  # Column Major\n",
        "print(np.ravel(c, order='C'))  # Row Major"
      ],
      "execution_count": null,
      "outputs": []
    },
    {
      "cell_type": "markdown",
      "metadata": {
        "id": "v2xE0Nfe0bkE"
      },
      "source": [
        "# **Expand Dimensions**"
      ]
    },
    {
      "cell_type": "code",
      "metadata": {
        "id": "RvX6gO8J0dwE"
      },
      "source": [
        "a = np.array([500,200,100])"
      ],
      "execution_count": null,
      "outputs": []
    },
    {
      "cell_type": "code",
      "metadata": {
        "id": "jpT977oT0h1h"
      },
      "source": [
        "# insert a new axis along the row\n",
        "b = np.expand_dims(a, axis=0)  \n",
        "\n",
        "# insert a new axis along the column\n",
        "c = np.expand_dims(a, axis=1)\n",
        "\n",
        "print(b)            \n",
        "print(b.shape)     \n",
        "\n",
        "print(c)           \n",
        "print(c.shape) "
      ],
      "execution_count": null,
      "outputs": []
    },
    {
      "cell_type": "markdown",
      "metadata": {
        "id": "koHPfefK0u2z"
      },
      "source": [
        "# **Unique**"
      ]
    },
    {
      "cell_type": "code",
      "metadata": {
        "id": "4Yd-1FiU0phr"
      },
      "source": [
        "m = np.array([1,2,1,1,4])\n",
        "\n",
        "# get the unique elements and thier indexes\n",
        "n, indices = np.unique(m, return_index=True)\n",
        "\n",
        "print(n)        \n",
        "print(indices)"
      ],
      "execution_count": null,
      "outputs": []
    }
  ]
}