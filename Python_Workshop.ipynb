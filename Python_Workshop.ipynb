{
  "nbformat": 4,
  "nbformat_minor": 0,
  "metadata": {
    "colab": {
      "name": "Python Workshop.ipynb",
      "provenance": [],
      "authorship_tag": "ABX9TyPvxociYJdLHAt4RcAJ4pzB",
      "include_colab_link": true
    },
    "kernelspec": {
      "name": "python3",
      "display_name": "Python 3"
    },
    "language_info": {
      "name": "python"
    }
  },
  "cells": [
    {
      "cell_type": "markdown",
      "metadata": {
        "id": "view-in-github",
        "colab_type": "text"
      },
      "source": [
        "<a href=\"https://colab.research.google.com/github/rozario-lamperouge/Machine-Learning-Course/blob/master/Python_Workshop.ipynb\" target=\"_parent\"><img src=\"https://colab.research.google.com/assets/colab-badge.svg\" alt=\"Open In Colab\"/></a>"
      ]
    },
    {
      "cell_type": "code",
      "execution_count": null,
      "metadata": {
        "colab": {
          "base_uri": "https://localhost:8080/"
        },
        "id": "6GM81hXAYkMP",
        "outputId": "888d4f4c-186d-47b8-f243-95670a1c4065"
      },
      "outputs": [
        {
          "output_type": "stream",
          "name": "stdout",
          "text": [
            "Hello all\n"
          ]
        }
      ],
      "source": [
        "print(\"Hello all\")"
      ]
    },
    {
      "cell_type": "code",
      "source": [
        "print('Hello World!')"
      ],
      "metadata": {
        "colab": {
          "base_uri": "https://localhost:8080/"
        },
        "id": "yCELM5W7aN4g",
        "outputId": "24619e8f-912e-456e-9d7d-76476ce740b2"
      },
      "execution_count": null,
      "outputs": [
        {
          "output_type": "stream",
          "name": "stdout",
          "text": [
            "Hello World!\n"
          ]
        }
      ]
    },
    {
      "cell_type": "code",
      "source": [
        "pi = 3.14\n",
        "print('pi')"
      ],
      "metadata": {
        "colab": {
          "base_uri": "https://localhost:8080/"
        },
        "id": "ILgANGhGaUkX",
        "outputId": "092d4aa5-8380-4d2c-d047-464c1d85334c"
      },
      "execution_count": null,
      "outputs": [
        {
          "output_type": "stream",
          "name": "stdout",
          "text": [
            "pi\n"
          ]
        }
      ]
    },
    {
      "cell_type": "code",
      "source": [
        "a = 132\n",
        "b = 3.2\n",
        "c = \"richard1243\"\n",
        "d = True\n",
        "e = False"
      ],
      "metadata": {
        "id": "gylSYLRfbfp2"
      },
      "execution_count": null,
      "outputs": []
    },
    {
      "cell_type": "code",
      "source": [
        "print(type(a))\n",
        "print(type(b))\n",
        "print(type(c))\n",
        "print(type(d))\n",
        "print(type(e))"
      ],
      "metadata": {
        "colab": {
          "base_uri": "https://localhost:8080/"
        },
        "id": "q15Ro334cW_N",
        "outputId": "719516d3-589a-48d4-b0de-0f470994a401"
      },
      "execution_count": null,
      "outputs": [
        {
          "output_type": "stream",
          "name": "stdout",
          "text": [
            "<class 'int'>\n",
            "<class 'float'>\n",
            "<class 'str'>\n",
            "<class 'bool'>\n",
            "<class 'bool'>\n"
          ]
        }
      ]
    },
    {
      "cell_type": "code",
      "source": [
        "a = 10\n",
        "b = 25\n",
        "print(a+b)\n",
        "print(a-b)\n",
        "print(a*b)\n",
        "print(b//a)\n",
        "print(a%b)"
      ],
      "metadata": {
        "id": "SGgAB2S6cjND",
        "colab": {
          "base_uri": "https://localhost:8080/"
        },
        "outputId": "752bfd5c-1b2e-4088-cd00-872072ca5bd9"
      },
      "execution_count": null,
      "outputs": [
        {
          "output_type": "stream",
          "name": "stdout",
          "text": [
            "35\n",
            "-15\n",
            "250\n",
            "2\n",
            "10\n"
          ]
        }
      ]
    },
    {
      "cell_type": "code",
      "source": [
        "a= 10\n",
        "b=20\n",
        "print(a>b)\n",
        "print(a<b)\n",
        "print(a>=b)\n",
        "print(a<=b)\n",
        "print(a==b)\n",
        "print(a!=b)"
      ],
      "metadata": {
        "colab": {
          "base_uri": "https://localhost:8080/"
        },
        "id": "2JV2lbwtoToy",
        "outputId": "35a68ef8-d637-4605-9c0f-e5ac16b8324a"
      },
      "execution_count": null,
      "outputs": [
        {
          "output_type": "stream",
          "name": "stdout",
          "text": [
            "False\n",
            "True\n",
            "False\n",
            "True\n",
            "False\n",
            "True\n"
          ]
        }
      ]
    },
    {
      "cell_type": "code",
      "source": [
        "print(True or True)\n",
        "print(True or False)\n",
        "print(False or True)\n",
        "print(False or False)"
      ],
      "metadata": {
        "colab": {
          "base_uri": "https://localhost:8080/"
        },
        "id": "_WWZ7naqpC5H",
        "outputId": "45386f3c-5fc7-4fc1-834e-4d0792bff181"
      },
      "execution_count": null,
      "outputs": [
        {
          "output_type": "stream",
          "name": "stdout",
          "text": [
            "True\n",
            "True\n",
            "True\n",
            "False\n"
          ]
        }
      ]
    },
    {
      "cell_type": "code",
      "source": [
        "print(not True)\n",
        "print(not False)"
      ],
      "metadata": {
        "colab": {
          "base_uri": "https://localhost:8080/"
        },
        "id": "FEVFSNI8p4j3",
        "outputId": "d9c73063-eb32-4a09-8543-8f90fa3e0200"
      },
      "execution_count": null,
      "outputs": [
        {
          "output_type": "stream",
          "name": "stdout",
          "text": [
            "False\n",
            "True\n"
          ]
        }
      ]
    },
    {
      "cell_type": "code",
      "source": [
        "not True and True or (False and True) and False\n",
        "False and True or False and False\n",
        "False or False "
      ],
      "metadata": {
        "colab": {
          "base_uri": "https://localhost:8080/"
        },
        "id": "HyaoklcVqUfC",
        "outputId": "f8bc2c29-ea92-467c-bc91-d89cd3db8a08"
      },
      "execution_count": null,
      "outputs": [
        {
          "output_type": "execute_result",
          "data": {
            "text/plain": [
              "False"
            ]
          },
          "metadata": {},
          "execution_count": 28
        }
      ]
    },
    {
      "cell_type": "code",
      "source": [
        "(a < b) and (a >= b) or ((a==b) and (a <= b)) and not (a !=b)\n",
        "True and False or (False and True) and not True\n",
        "False or False and False\n",
        "False and False"
      ],
      "metadata": {
        "colab": {
          "base_uri": "https://localhost:8080/"
        },
        "id": "4kN-M9Crqvvg",
        "outputId": "c8c567b2-4b25-4336-8a56-80a38209d38d"
      },
      "execution_count": null,
      "outputs": [
        {
          "output_type": "execute_result",
          "data": {
            "text/plain": [
              "False"
            ]
          },
          "metadata": {},
          "execution_count": 30
        }
      ]
    },
    {
      "cell_type": "code",
      "source": [
        "age = 10\n",
        "\n",
        "if(age > 18):\n",
        "  print(\"major\")\n",
        "else:\n",
        "  print('minor')"
      ],
      "metadata": {
        "id": "b0Yb_MTpZrkX",
        "outputId": "b3dd1a0a-c81c-4e60-ca36-15a3b68004c4",
        "colab": {
          "base_uri": "https://localhost:8080/"
        }
      },
      "execution_count": 3,
      "outputs": [
        {
          "output_type": "stream",
          "name": "stdout",
          "text": [
            "minor\n"
          ]
        }
      ]
    },
    {
      "cell_type": "code",
      "source": [
        "age = int(input())\n",
        "ht = int(input())\n",
        "wt = int(input())\n",
        "if (age>18 or ht>5 or wt>60):\n",
        "  print(\"if part\")\n",
        "else:\n",
        "  print(\"else part\")\n"
      ],
      "metadata": {
        "colab": {
          "base_uri": "https://localhost:8080/"
        },
        "id": "9BL2se1CrsOV",
        "outputId": "656b829f-a3bc-4590-dffe-6c3bbd7a601d"
      },
      "execution_count": null,
      "outputs": [
        {
          "output_type": "stream",
          "name": "stdout",
          "text": [
            "20\n",
            "4\n",
            "40\n",
            "if part\n"
          ]
        }
      ]
    },
    {
      "cell_type": "code",
      "source": [
        "print(age>18)"
      ],
      "metadata": {
        "colab": {
          "base_uri": "https://localhost:8080/"
        },
        "id": "GTBA7TCrskIc",
        "outputId": "0ade705b-273b-462c-9c3f-83a09b59c471"
      },
      "execution_count": null,
      "outputs": [
        {
          "output_type": "stream",
          "name": "stdout",
          "text": [
            "True\n"
          ]
        }
      ]
    },
    {
      "cell_type": "code",
      "source": [
        "user = input()\n",
        "password = input()\n",
        "if (user=='Richard' and password=='1234'):\n",
        "  print(\"Welcome Richard!\")\n",
        "elif (user=='varshini' and password=='5678'):\n",
        "  print(\"Welcome Varshini!\")\n",
        "elif (user=='Ramya' and password=='001'):\n",
        "  print(\"Welcome Ramya\")\n",
        "else:\n",
        "  print(\"Invalid user.\")\n"
      ],
      "metadata": {
        "colab": {
          "base_uri": "https://localhost:8080/"
        },
        "id": "ttqY6AtEtK88",
        "outputId": "84e62825-0ec7-4c82-fa27-42f8beeaf2af"
      },
      "execution_count": null,
      "outputs": [
        {
          "output_type": "stream",
          "name": "stdout",
          "text": [
            "Ramya\n",
            "001\n",
            "Welcome Ramya\n"
          ]
        }
      ]
    },
    {
      "cell_type": "code",
      "source": [
        "10 - 30 = grade d\n",
        "30 - 50 = grade c\n",
        "50 - 70 = grade b\n",
        "70 - 100 grade a\n",
        "below 10 = fail"
      ],
      "metadata": {
        "id": "tcYO5ftzv8V3"
      },
      "execution_count": null,
      "outputs": []
    },
    {
      "cell_type": "code",
      "source": [
        "mark=int(input())\n",
        "if (mark>=10 and mark<=30):\n",
        "  print(\"grade D\")\n",
        "elif (mark>30 and mark<=50):\n",
        "  print(\"grade C\") \n",
        "elif (mark>50 and mark<=70):\n",
        "  print(\"grade B\")   \n",
        "elif ( mark>70 and mark<=100):\n",
        "  print(\"grade A\")  \n",
        "else: \n",
        "  print(\"fail\") \n"
      ],
      "metadata": {
        "colab": {
          "base_uri": "https://localhost:8080/"
        },
        "id": "exjbqbLD5IV-",
        "outputId": "134282c8-cd36-4ee9-976b-0f40a403c11c"
      },
      "execution_count": null,
      "outputs": [
        {
          "output_type": "stream",
          "name": "stdout",
          "text": [
            "8\n",
            "fail\n"
          ]
        }
      ]
    },
    {
      "cell_type": "code",
      "source": [
        "for i in range(1,21):\n",
        "  print(i*2)"
      ],
      "metadata": {
        "colab": {
          "base_uri": "https://localhost:8080/"
        },
        "id": "KxhtZbGYzZsU",
        "outputId": "48df964a-2d0e-43a3-d903-a321e886557e"
      },
      "execution_count": null,
      "outputs": [
        {
          "output_type": "stream",
          "name": "stdout",
          "text": [
            "2\n",
            "4\n",
            "6\n",
            "8\n",
            "10\n",
            "12\n",
            "14\n",
            "16\n",
            "18\n",
            "20\n",
            "22\n",
            "24\n",
            "26\n",
            "28\n",
            "30\n",
            "32\n",
            "34\n",
            "36\n",
            "38\n",
            "40\n"
          ]
        }
      ]
    },
    {
      "cell_type": "code",
      "source": [
        "i = 10\n",
        "\n",
        "while (i <= 20):\n",
        "  print(i)\n",
        "  i = i + 1\n",
        "print(\"end of while.. rip\")"
      ],
      "metadata": {
        "colab": {
          "base_uri": "https://localhost:8080/"
        },
        "id": "7u0iCEfAz-TU",
        "outputId": "82cd1979-deb1-49be-883c-8a26911babcd"
      },
      "execution_count": null,
      "outputs": [
        {
          "output_type": "stream",
          "name": "stdout",
          "text": [
            "10\n",
            "11\n",
            "12\n",
            "13\n",
            "14\n",
            "15\n",
            "16\n",
            "17\n",
            "18\n",
            "19\n",
            "20\n",
            "end of while.. rip\n"
          ]
        }
      ]
    },
    {
      "cell_type": "code",
      "source": [
        "for a in range(2,12,2):\n",
        "  print(a)"
      ],
      "metadata": {
        "id": "JJBR7qAkV9vM",
        "outputId": "5e142d10-1102-4167-99a5-36f608550fb4",
        "colab": {
          "base_uri": "https://localhost:8080/"
        }
      },
      "execution_count": 15,
      "outputs": [
        {
          "output_type": "stream",
          "name": "stdout",
          "text": [
            "2\n",
            "4\n",
            "6\n",
            "8\n",
            "10\n"
          ]
        }
      ]
    },
    {
      "cell_type": "code",
      "source": [
        "i = 0\n",
        "\n",
        "while(i < 10):\n",
        "  print('major')\n",
        "  print(i)\n",
        "  i = i + 1"
      ],
      "metadata": {
        "id": "3RUFqPlIb7_Q",
        "outputId": "d4e283f3-4213-47d5-b405-e8e0b122754c",
        "colab": {
          "base_uri": "https://localhost:8080/"
        }
      },
      "execution_count": 22,
      "outputs": [
        {
          "output_type": "stream",
          "name": "stdout",
          "text": [
            "major\n",
            "0\n",
            "major\n",
            "1\n",
            "major\n",
            "2\n",
            "major\n",
            "3\n",
            "major\n",
            "4\n",
            "major\n",
            "5\n",
            "major\n",
            "6\n",
            "major\n",
            "7\n",
            "major\n",
            "8\n",
            "major\n",
            "9\n"
          ]
        }
      ]
    },
    {
      "cell_type": "code",
      "source": [
        "while False:\n",
        "  print(\"heyyy\")"
      ],
      "metadata": {
        "id": "3f9jflyBdPDR"
      },
      "execution_count": 24,
      "outputs": []
    },
    {
      "cell_type": "code",
      "source": [
        "def sqr(x):\n",
        "  print(x*x)\n",
        "\n",
        "sqr(2)\n",
        "sqr(4)\n",
        "sqr(5)"
      ],
      "metadata": {
        "id": "6k28iGFkdk53",
        "outputId": "c52fe26e-5056-415f-98cd-40e89e86bd3a",
        "colab": {
          "base_uri": "https://localhost:8080/"
        }
      },
      "execution_count": 29,
      "outputs": [
        {
          "output_type": "stream",
          "name": "stdout",
          "text": [
            "4\n",
            "16\n",
            "25\n"
          ]
        }
      ]
    },
    {
      "cell_type": "code",
      "source": [
        "def greet():\n",
        "  print(\"WELCOME TO MY WEBSITE\")\n",
        "\n",
        "greet()\n",
        "greet()"
      ],
      "metadata": {
        "id": "zL1WIo0_fRdQ",
        "outputId": "68fd33f0-c2ac-40e1-f200-bb1a0a9bf9d0",
        "colab": {
          "base_uri": "https://localhost:8080/"
        }
      },
      "execution_count": 32,
      "outputs": [
        {
          "output_type": "stream",
          "name": "stdout",
          "text": [
            "WELCOME TO MY WEBSITE\n",
            "WELCOME TO MY WEBSITE\n"
          ]
        }
      ]
    },
    {
      "cell_type": "code",
      "source": [
        "def add(a,b):\n",
        "  return(a + b)\n",
        "\n",
        "ans = add(20,30)\n",
        "print(ans)"
      ],
      "metadata": {
        "id": "w975qN-TgjUs",
        "outputId": "192d5b4a-d10b-48e8-851a-df45343d1525",
        "colab": {
          "base_uri": "https://localhost:8080/"
        }
      },
      "execution_count": 34,
      "outputs": [
        {
          "output_type": "stream",
          "name": "stdout",
          "text": [
            "50\n"
          ]
        }
      ]
    },
    {
      "cell_type": "code",
      "source": [
        "l = [20, 30, 60 , \"richard\", 3.5]"
      ],
      "metadata": {
        "id": "Lq5Qlbl-kEAl",
        "outputId": "af6f2307-b842-4d8f-c2f9-e27265803b2c",
        "colab": {
          "base_uri": "https://localhost:8080/"
        }
      },
      "execution_count": 35,
      "outputs": [
        {
          "output_type": "stream",
          "name": "stdout",
          "text": [
            "<class 'list'>\n"
          ]
        }
      ]
    },
    {
      "cell_type": "code",
      "source": [
        "print(l[1:3])\n",
        "print(l[0:4])"
      ],
      "metadata": {
        "id": "wZjal5uxk9XD",
        "outputId": "c1f6cd84-df54-4704-bf8f-96c2b429c287",
        "colab": {
          "base_uri": "https://localhost:8080/"
        }
      },
      "execution_count": 41,
      "outputs": [
        {
          "output_type": "stream",
          "name": "stdout",
          "text": [
            "[30, 60]\n",
            "[20, 30, 60, 'richard']\n"
          ]
        }
      ]
    },
    {
      "cell_type": "code",
      "source": [
        "l.append(10)\n",
        "print(l)"
      ],
      "metadata": {
        "id": "oX6hFW99m3SO",
        "outputId": "84aaaeee-1adf-4e50-a96e-36a5beb92442",
        "colab": {
          "base_uri": "https://localhost:8080/"
        }
      },
      "execution_count": 46,
      "outputs": [
        {
          "output_type": "stream",
          "name": "stdout",
          "text": [
            "[20, 30, 60, 'richard', 3.5, 10]\n"
          ]
        }
      ]
    },
    {
      "cell_type": "code",
      "source": [
        "l.pop()\n",
        "print(l)"
      ],
      "metadata": {
        "id": "5m8bWm-TnPmQ",
        "outputId": "c726f6a0-5992-441d-f708-35d7bb7f0436",
        "colab": {
          "base_uri": "https://localhost:8080/"
        }
      },
      "execution_count": 45,
      "outputs": [
        {
          "output_type": "stream",
          "name": "stdout",
          "text": [
            "[20, 30, 60, 'richard', 3.5]\n"
          ]
        }
      ]
    },
    {
      "cell_type": "code",
      "source": [
        "t = (90, 40, 50, 100)\n",
        "print(type(t))"
      ],
      "metadata": {
        "id": "osbc3TIinmEV",
        "outputId": "fcb516f2-b567-438f-b894-e8db6321878b",
        "colab": {
          "base_uri": "https://localhost:8080/"
        }
      },
      "execution_count": 47,
      "outputs": [
        {
          "output_type": "stream",
          "name": "stdout",
          "text": [
            "<class 'tuple'>\n"
          ]
        }
      ]
    },
    {
      "cell_type": "code",
      "source": [
        "t.append(2)"
      ],
      "metadata": {
        "id": "XpG4q3cLoXik"
      },
      "execution_count": null,
      "outputs": []
    },
    {
      "cell_type": "code",
      "source": [
        "d = {\"one\":\"Earth\",\n",
        "     \"two\":\"Mars\",\n",
        "     \"three\":\"Venus\"}\n",
        "\n",
        "print(type(d))"
      ],
      "metadata": {
        "id": "6oabd7AVqu3r",
        "outputId": "3687b7e9-49a9-48d8-982f-2ad69a3ab5c7",
        "colab": {
          "base_uri": "https://localhost:8080/"
        }
      },
      "execution_count": 49,
      "outputs": [
        {
          "output_type": "stream",
          "name": "stdout",
          "text": [
            "<class 'dict'>\n"
          ]
        }
      ]
    },
    {
      "cell_type": "code",
      "source": [
        "print(d[\"two\"])"
      ],
      "metadata": {
        "id": "z1dAsVWpw2w7",
        "outputId": "b73239af-64d0-4886-b5e6-bf36f5abc786",
        "colab": {
          "base_uri": "https://localhost:8080/"
        }
      },
      "execution_count": 52,
      "outputs": [
        {
          "output_type": "stream",
          "name": "stdout",
          "text": [
            "Mars\n"
          ]
        }
      ]
    },
    {
      "cell_type": "code",
      "source": [
        "#is is a dictionary\n",
        "d1 = {\"name\":\"Richard\",\n",
        "      \"age\" : 22,\n",
        "      }"
      ],
      "metadata": {
        "id": "yzjYnASoxH0g"
      },
      "execution_count": 58,
      "outputs": []
    },
    {
      "cell_type": "code",
      "source": [
        "print(d1['age'])"
      ],
      "metadata": {
        "id": "F-Jfcc4HxaeP",
        "outputId": "dbf8929d-0673-4618-c4c4-b615d351e055",
        "colab": {
          "base_uri": "https://localhost:8080/"
        }
      },
      "execution_count": 55,
      "outputs": [
        {
          "output_type": "stream",
          "name": "stdout",
          "text": [
            "22\n"
          ]
        }
      ]
    },
    {
      "cell_type": "code",
      "source": [
        "num = 25\n",
        "srt = num**0.5\n",
        "print(srt)"
      ],
      "metadata": {
        "id": "jSibzkKtyFYA",
        "outputId": "bfde7888-bcfc-480b-c93b-776bd35cdf64",
        "colab": {
          "base_uri": "https://localhost:8080/"
        }
      },
      "execution_count": 62,
      "outputs": [
        {
          "output_type": "stream",
          "name": "stdout",
          "text": [
            "5.0\n"
          ]
        }
      ]
    },
    {
      "cell_type": "code",
      "source": [
        "import math\n",
        "math.sqrt(25)"
      ],
      "metadata": {
        "id": "IvSkY9_8z1A8",
        "outputId": "6340d8b9-6c8b-4b4e-9c17-216d2a1004d2",
        "colab": {
          "base_uri": "https://localhost:8080/"
        }
      },
      "execution_count": 63,
      "outputs": [
        {
          "output_type": "execute_result",
          "data": {
            "text/plain": [
              "5.0"
            ]
          },
          "metadata": {},
          "execution_count": 63
        }
      ]
    }
  ]
}