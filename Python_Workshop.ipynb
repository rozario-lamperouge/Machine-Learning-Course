{
  "nbformat": 4,
  "nbformat_minor": 0,
  "metadata": {
    "colab": {
      "name": "Python Workshop.ipynb",
      "provenance": [],
      "authorship_tag": "ABX9TyPySt9HcdqNY2nW61otlq7E",
      "include_colab_link": true
    },
    "kernelspec": {
      "name": "python3",
      "display_name": "Python 3"
    },
    "language_info": {
      "name": "python"
    }
  },
  "cells": [
    {
      "cell_type": "markdown",
      "metadata": {
        "id": "view-in-github",
        "colab_type": "text"
      },
      "source": [
        "<a href=\"https://colab.research.google.com/github/rozario-lamperouge/Machine-Learning-Course/blob/master/Python_Workshop.ipynb\" target=\"_parent\"><img src=\"https://colab.research.google.com/assets/colab-badge.svg\" alt=\"Open In Colab\"/></a>"
      ]
    },
    {
      "cell_type": "code",
      "execution_count": null,
      "metadata": {
        "colab": {
          "base_uri": "https://localhost:8080/"
        },
        "id": "6GM81hXAYkMP",
        "outputId": "888d4f4c-186d-47b8-f243-95670a1c4065"
      },
      "outputs": [
        {
          "output_type": "stream",
          "name": "stdout",
          "text": [
            "Hello all\n"
          ]
        }
      ],
      "source": [
        "print(\"Hello all\")"
      ]
    },
    {
      "cell_type": "code",
      "source": [
        "print('Hello World!')"
      ],
      "metadata": {
        "colab": {
          "base_uri": "https://localhost:8080/"
        },
        "id": "yCELM5W7aN4g",
        "outputId": "24619e8f-912e-456e-9d7d-76476ce740b2"
      },
      "execution_count": null,
      "outputs": [
        {
          "output_type": "stream",
          "name": "stdout",
          "text": [
            "Hello World!\n"
          ]
        }
      ]
    },
    {
      "cell_type": "code",
      "source": [
        "pi = 3.14\n",
        "print('pi')"
      ],
      "metadata": {
        "colab": {
          "base_uri": "https://localhost:8080/"
        },
        "id": "ILgANGhGaUkX",
        "outputId": "092d4aa5-8380-4d2c-d047-464c1d85334c"
      },
      "execution_count": null,
      "outputs": [
        {
          "output_type": "stream",
          "name": "stdout",
          "text": [
            "pi\n"
          ]
        }
      ]
    },
    {
      "cell_type": "code",
      "source": [
        "a = 132\n",
        "b = 3.2\n",
        "c = \"richard1243\"\n",
        "d = True\n",
        "e = False"
      ],
      "metadata": {
        "id": "gylSYLRfbfp2"
      },
      "execution_count": null,
      "outputs": []
    },
    {
      "cell_type": "code",
      "source": [
        "print(type(a))\n",
        "print(type(b))\n",
        "print(type(c))\n",
        "print(type(d))\n",
        "print(type(e))"
      ],
      "metadata": {
        "colab": {
          "base_uri": "https://localhost:8080/"
        },
        "id": "q15Ro334cW_N",
        "outputId": "719516d3-589a-48d4-b0de-0f470994a401"
      },
      "execution_count": null,
      "outputs": [
        {
          "output_type": "stream",
          "name": "stdout",
          "text": [
            "<class 'int'>\n",
            "<class 'float'>\n",
            "<class 'str'>\n",
            "<class 'bool'>\n",
            "<class 'bool'>\n"
          ]
        }
      ]
    },
    {
      "cell_type": "code",
      "source": [
        "a = 10\n",
        "b = 25\n",
        "print(a+b)\n",
        "print(a-b)\n",
        "print(a*b)\n",
        "print(b//a)\n",
        "print(a%b)"
      ],
      "metadata": {
        "id": "SGgAB2S6cjND",
        "colab": {
          "base_uri": "https://localhost:8080/"
        },
        "outputId": "752bfd5c-1b2e-4088-cd00-872072ca5bd9"
      },
      "execution_count": 14,
      "outputs": [
        {
          "output_type": "stream",
          "name": "stdout",
          "text": [
            "35\n",
            "-15\n",
            "250\n",
            "2\n",
            "10\n"
          ]
        }
      ]
    },
    {
      "cell_type": "code",
      "source": [
        "a= 10\n",
        "b=20\n",
        "print(a>b)\n",
        "print(a<b)\n",
        "print(a>=b)\n",
        "print(a<=b)\n",
        "print(a==b)\n",
        "print(a!=b)"
      ],
      "metadata": {
        "colab": {
          "base_uri": "https://localhost:8080/"
        },
        "id": "2JV2lbwtoToy",
        "outputId": "35a68ef8-d637-4605-9c0f-e5ac16b8324a"
      },
      "execution_count": 20,
      "outputs": [
        {
          "output_type": "stream",
          "name": "stdout",
          "text": [
            "False\n",
            "True\n",
            "False\n",
            "True\n",
            "False\n",
            "True\n"
          ]
        }
      ]
    },
    {
      "cell_type": "code",
      "source": [
        "print(True or True)\n",
        "print(True or False)\n",
        "print(False or True)\n",
        "print(False or False)"
      ],
      "metadata": {
        "colab": {
          "base_uri": "https://localhost:8080/"
        },
        "id": "_WWZ7naqpC5H",
        "outputId": "45386f3c-5fc7-4fc1-834e-4d0792bff181"
      },
      "execution_count": 25,
      "outputs": [
        {
          "output_type": "stream",
          "name": "stdout",
          "text": [
            "True\n",
            "True\n",
            "True\n",
            "False\n"
          ]
        }
      ]
    },
    {
      "cell_type": "code",
      "source": [
        "print(not True)\n",
        "print(not False)"
      ],
      "metadata": {
        "colab": {
          "base_uri": "https://localhost:8080/"
        },
        "id": "FEVFSNI8p4j3",
        "outputId": "d9c73063-eb32-4a09-8543-8f90fa3e0200"
      },
      "execution_count": 26,
      "outputs": [
        {
          "output_type": "stream",
          "name": "stdout",
          "text": [
            "False\n",
            "True\n"
          ]
        }
      ]
    },
    {
      "cell_type": "code",
      "source": [
        "not True and True or (False and True) and False\n",
        "False and True or False and False\n",
        "False or False "
      ],
      "metadata": {
        "colab": {
          "base_uri": "https://localhost:8080/"
        },
        "id": "HyaoklcVqUfC",
        "outputId": "f8bc2c29-ea92-467c-bc91-d89cd3db8a08"
      },
      "execution_count": 28,
      "outputs": [
        {
          "output_type": "execute_result",
          "data": {
            "text/plain": [
              "False"
            ]
          },
          "metadata": {},
          "execution_count": 28
        }
      ]
    },
    {
      "cell_type": "code",
      "source": [
        "(a < b) and (a >= b) or ((a==b) and (a <= b)) and not (a !=b)\n",
        "True and False or (False and True) and not True\n",
        "False or False and False\n",
        "False and False"
      ],
      "metadata": {
        "colab": {
          "base_uri": "https://localhost:8080/"
        },
        "id": "4kN-M9Crqvvg",
        "outputId": "c8c567b2-4b25-4336-8a56-80a38209d38d"
      },
      "execution_count": 30,
      "outputs": [
        {
          "output_type": "execute_result",
          "data": {
            "text/plain": [
              "False"
            ]
          },
          "metadata": {},
          "execution_count": 30
        }
      ]
    },
    {
      "cell_type": "code",
      "source": [
        "age = int(input())\n",
        "ht = int(input())\n",
        "wt = int(input())\n",
        "if (age>18 or ht>5 or wt>60):\n",
        "  print(\"if part\")\n",
        "else:\n",
        "  print(\"else part\")\n"
      ],
      "metadata": {
        "colab": {
          "base_uri": "https://localhost:8080/"
        },
        "id": "9BL2se1CrsOV",
        "outputId": "656b829f-a3bc-4590-dffe-6c3bbd7a601d"
      },
      "execution_count": 38,
      "outputs": [
        {
          "output_type": "stream",
          "name": "stdout",
          "text": [
            "20\n",
            "4\n",
            "40\n",
            "if part\n"
          ]
        }
      ]
    },
    {
      "cell_type": "code",
      "source": [
        "print(age>18)"
      ],
      "metadata": {
        "colab": {
          "base_uri": "https://localhost:8080/"
        },
        "id": "GTBA7TCrskIc",
        "outputId": "0ade705b-273b-462c-9c3f-83a09b59c471"
      },
      "execution_count": 34,
      "outputs": [
        {
          "output_type": "stream",
          "name": "stdout",
          "text": [
            "True\n"
          ]
        }
      ]
    },
    {
      "cell_type": "code",
      "source": [
        "user = input()\n",
        "password = input()\n",
        "if (user=='Richard' and password=='1234'):\n",
        "  print(\"Welcome Richard!\")\n",
        "elif (user=='varshini' and password=='5678'):\n",
        "  print(\"Welcome Varshini!\")\n",
        "elif (user=='Ramya' and password=='001'):\n",
        "  print(\"Welcome Ramya\")\n",
        "else:\n",
        "  print(\"Invalid user.\")\n"
      ],
      "metadata": {
        "colab": {
          "base_uri": "https://localhost:8080/"
        },
        "id": "ttqY6AtEtK88",
        "outputId": "84e62825-0ec7-4c82-fa27-42f8beeaf2af"
      },
      "execution_count": 42,
      "outputs": [
        {
          "output_type": "stream",
          "name": "stdout",
          "text": [
            "Ramya\n",
            "001\n",
            "Welcome Ramya\n"
          ]
        }
      ]
    },
    {
      "cell_type": "code",
      "source": [
        "10 - 30 = grade d\n",
        "30 - 50 = grade c\n",
        "50 - 70 = grade b\n",
        "70 - 100 grade a\n",
        "below 10 = fail"
      ],
      "metadata": {
        "id": "tcYO5ftzv8V3"
      },
      "execution_count": null,
      "outputs": []
    },
    {
      "cell_type": "code",
      "source": [
        "mark=int(input())\n",
        "if (mark>=10 and mark<=30):\n",
        "  print(\"grade D\")\n",
        "elif (mark>30 and mark<=50):\n",
        "  print(\"grade C\") \n",
        "elif (mark>50 and mark<=70):\n",
        "  print(\"grade B\")   \n",
        "elif ( mark>70 and mark<=100):\n",
        "  print(\"grade A\")  \n",
        "else: \n",
        "  print(\"fail\") \n"
      ],
      "metadata": {
        "colab": {
          "base_uri": "https://localhost:8080/"
        },
        "id": "exjbqbLD5IV-",
        "outputId": "134282c8-cd36-4ee9-976b-0f40a403c11c"
      },
      "execution_count": 57,
      "outputs": [
        {
          "output_type": "stream",
          "name": "stdout",
          "text": [
            "8\n",
            "fail\n"
          ]
        }
      ]
    },
    {
      "cell_type": "code",
      "source": [
        "for i in range(1,21):\n",
        "  print(i*2)"
      ],
      "metadata": {
        "colab": {
          "base_uri": "https://localhost:8080/"
        },
        "id": "KxhtZbGYzZsU",
        "outputId": "48df964a-2d0e-43a3-d903-a321e886557e"
      },
      "execution_count": 49,
      "outputs": [
        {
          "output_type": "stream",
          "name": "stdout",
          "text": [
            "2\n",
            "4\n",
            "6\n",
            "8\n",
            "10\n",
            "12\n",
            "14\n",
            "16\n",
            "18\n",
            "20\n",
            "22\n",
            "24\n",
            "26\n",
            "28\n",
            "30\n",
            "32\n",
            "34\n",
            "36\n",
            "38\n",
            "40\n"
          ]
        }
      ]
    },
    {
      "cell_type": "code",
      "source": [
        "i = 10\n",
        "\n",
        "while (i <= 20):\n",
        "  print(i)\n",
        "  i = i + 1\n",
        "print(\"end of while.. rip\")"
      ],
      "metadata": {
        "colab": {
          "base_uri": "https://localhost:8080/"
        },
        "id": "7u0iCEfAz-TU",
        "outputId": "82cd1979-deb1-49be-883c-8a26911babcd"
      },
      "execution_count": 54,
      "outputs": [
        {
          "output_type": "stream",
          "name": "stdout",
          "text": [
            "10\n",
            "11\n",
            "12\n",
            "13\n",
            "14\n",
            "15\n",
            "16\n",
            "17\n",
            "18\n",
            "19\n",
            "20\n",
            "end of while.. rip\n"
          ]
        }
      ]
    },
    {
      "cell_type": "code",
      "source": [
        ""
      ],
      "metadata": {
        "id": "JJBR7qAkV9vM"
      },
      "execution_count": null,
      "outputs": []
    }
  ]
}